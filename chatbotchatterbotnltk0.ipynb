{
  "nbformat": 4,
  "nbformat_minor": 0,
  "metadata": {
    "colab": {
      "provenance": [],
      "authorship_tag": "ABX9TyMsWgh318V8heStDyTdJ9Pv",
      "include_colab_link": true
    },
    "kernelspec": {
      "name": "python3",
      "display_name": "Python 3"
    },
    "language_info": {
      "name": "python"
    }
  },
  "cells": [
    {
      "cell_type": "markdown",
      "metadata": {
        "id": "view-in-github",
        "colab_type": "text"
      },
      "source": [
        "<a href=\"https://colab.research.google.com/github/norayehia/chatbot-nlp/blob/main/chatbotchatterbotnltk0.ipynb\" target=\"_parent\"><img src=\"https://colab.research.google.com/assets/colab-badge.svg\" alt=\"Open In Colab\"/></a>"
      ]
    },
    {
      "cell_type": "code",
      "execution_count": null,
      "metadata": {
        "id": "O7wcT6f_drqq"
      },
      "outputs": [],
      "source": [
        "\n",
        "pip install nltk"
      ]
    },
    {
      "cell_type": "code",
      "source": [
        "\n",
        "import nltk\n",
        "from nltk.chat.util import Chat, reflections"
      ],
      "metadata": {
        "id": "Uxg3_pvnduAr"
      },
      "execution_count": null,
      "outputs": []
    },
    {
      "cell_type": "markdown",
      "source": [
        "make our list of data"
      ],
      "metadata": {
        "id": "xICZPsMieEUy"
      }
    },
    {
      "cell_type": "code",
      "source": [
        "\n",
        "reflections = {\n",
        "  \"i am\"       : \"you are\",\n",
        "  \"i was\"      : \"you were\",\n",
        "  \"i\"          : \"you\",\n",
        "  \"i'm\"        : \"you are\",\n",
        "  \"i'd\"        : \"you would\",\n",
        "  \"i've\"       : \"you have\",\n",
        "  \"i'll\"       : \"you will\",\n",
        "  \"my\"         : \"your\",\n",
        "  \"you are\"    : \"I am\",\n",
        "  \"you were\"   : \"I was\",\n",
        "  \"you've\"     : \"I have\",\n",
        "  \"you'll\"     : \"I will\",\n",
        "  \"your\"       : \"my\",\n",
        "  \"yours\"      : \"mine\",\n",
        "  \"you\"        : \"me\",\n",
        "  \"me\"         : \"you\"\n",
        "}"
      ],
      "metadata": {
        "id": "uAY-M-e0duHE"
      },
      "execution_count": null,
      "outputs": []
    },
    {
      "cell_type": "code",
      "source": [
        "pairs = [\n",
        "    [        r\"my name is (.*)\",        [\"Hello %1, How are you today ?\",]    ],\n",
        "    [        r\"hi|hey|hello\",        [\"Hello\", \"Hey there\",]    ],\n",
        "    [        r\"what is your name ?\",        [\"I am a bot. you can call me crazy!\",]    ],\n",
        "    [        r\"how are you ?\",        [\"I'm doing goodnHow about You ?\",]    ],\n",
        "    [        r\"sorry (.*)\",        [\"Its alright\",\"Its OK, never mind\",]    ],\n",
        "    [        r\"I am fine\",        [\"Great to hear that, How can I help you?\",]    ],\n",
        "    [        r\"i'm (.*) doing good\",        [\"Nice to hear that\",\"How can I help you?:)\",]    ],\n",
        "    [        r\"(.*) age?\",        [\"I'm a computer program dudenSeriously you are asking me this?\",]    ],\n",
        "    [        r\"what (.*) want ?\",        [\"Make me an offer I can't refuse\",]    ],\n",
        "    [        r\"(.*) created ?\",        [\"Raghav created me using Python's NLTK library \",\"top secret ;)\",]    ],\n",
        "    [        r\"(.*) (location|city) ?\",        ['Indore, Madhya Pradesh',]    ],\n",
        "    [        r\"how is weather in (.*)?\",        [\"Weather in %1 is awesome like always\",\"Too hot man here in %1\",\"Too cold man here in %1\",\"Never even heard about %1\"]    ],\n",
        "    [        r\"i work in (.*)?\",        [\"%1 is an Amazing company, I have heard about it. But they are in huge loss these days.\",]    ],\n",
        "    [        r\"(.*)raining in (.*)\",        [\"No rain since last week here in %2\",\"Damn its raining too much here in %2\"]    ],\n",
        "    [        r\"how (.*) health(.*)\",        [\"I'm a computer program, so I'm always healthy \",]    ],\n",
        "    [        r\"(.*) (sports|game) ?\",        [\"I'm a very big fan of Football\",]    ],\n",
        "    [        r\"who (.*) sportsperson ?\",        [\"Messy\",\"Ronaldo\",\"Roony\"]    ],\n",
        "    [        r\"who (.*) (moviestar|actor)?\",        [\"Brad Pitt\"]    ],\n",
        "    [        r\"i am looking for online guides and courses to learn data science, can you suggest?\",        [\"Crazy_Tech has many great articles with each step explanation along with code, you can explore\"]    ],\n",
        "    [        r\"quit\",        [\"BBye take care. See you soon :) \",\"It was nice talking to you. See you soon :)\"]    ],\n",
        "]\n"
      ],
      "metadata": {
        "id": "mCgGd5BBd0wT"
      },
      "execution_count": null,
      "outputs": []
    },
    {
      "cell_type": "markdown",
      "source": [
        "train on our data"
      ],
      "metadata": {
        "id": "2vGjaaZld8p7"
      }
    },
    {
      "cell_type": "code",
      "source": [
        "\n",
        "def chat():\n",
        "    print(\"Hi! I am a chatbot for your service\")\n",
        "    chat = Chat(pairs, reflections)\n",
        "    chat.converse()\n",
        "#initiate the conversation\n",
        "if __name__ == \"__main__\":\n",
        "    chat()\n"
      ],
      "metadata": {
        "id": "xFkkWR7bd4C6"
      },
      "execution_count": null,
      "outputs": []
    },
    {
      "cell_type": "markdown",
      "source": [
        "................................................................................"
      ],
      "metadata": {
        "id": "mhPDIJm1eLPL"
      }
    },
    {
      "cell_type": "markdown",
      "source": [
        "another example"
      ],
      "metadata": {
        "id": "MF2_XDQReOJj"
      }
    },
    {
      "cell_type": "code",
      "source": [
        "\n",
        "pip install chatterbot"
      ],
      "metadata": {
        "id": "ujDmFsUieNVL"
      },
      "execution_count": null,
      "outputs": []
    },
    {
      "cell_type": "code",
      "source": [
        "\n",
        "pip install chatterbot_corpus"
      ],
      "metadata": {
        "id": "fzkfInQ0eNd6"
      },
      "execution_count": null,
      "outputs": []
    },
    {
      "cell_type": "code",
      "source": [
        "pip install --upgrade chatterbot_corpus\n"
      ],
      "metadata": {
        "id": "KR1xYq_AeNg6"
      },
      "execution_count": null,
      "outputs": []
    },
    {
      "cell_type": "code",
      "source": [
        "pip install --upgrade chatterbot"
      ],
      "metadata": {
        "id": "-Tvjn7LyeNjz"
      },
      "execution_count": null,
      "outputs": []
    },
    {
      "cell_type": "code",
      "source": [
        "from chatterbot import ChatBot\n",
        "from chatterbot.trainers import ListTrainer\n"
      ],
      "metadata": {
        "id": "o_hJCqBJeNpS"
      },
      "execution_count": null,
      "outputs": []
    },
    {
      "cell_type": "markdown",
      "source": [
        "model catbot from chatterbot"
      ],
      "metadata": {
        "id": "iOk2EdxyfBYa"
      }
    },
    {
      "cell_type": "code",
      "source": [
        "my_bot = ChatBot(name='PyBot', read_only=True,\n",
        "                 logic_adapters=['chatterbot.logic.MathematicalEvaluation',\n",
        "                                 'chatterbot.logic.BestMatch'])"
      ],
      "metadata": {
        "id": "zvDkVau6e_XL"
      },
      "execution_count": null,
      "outputs": []
    },
    {
      "cell_type": "markdown",
      "source": [
        "make our data in list\n",
        "https://www.upgrad.com/blog/how-to-make-chatbot-in-python/\n",
        "\n",
        " عمل بايثون ودخل ردود واستدعي مكتبه وعندي نوعين rule based ,self-orgained وده افضل"
      ],
      "metadata": {
        "id": "tyxAbzxxfRiB"
      }
    },
    {
      "cell_type": "code",
      "source": [
        "small_talk = ['hi there!',\n",
        "              'hi!',\n",
        "              'how do you do?',\n",
        "              'how are you?',\n",
        "              'i\\'m cool.',\n",
        "              'fine, you?',\n",
        "              'always cool.',\n",
        "              'i\\'m ok',\n",
        "              'glad to hear that.',\n",
        "              'i\\'m fine',\n",
        "              'glad to hear that.',\n",
        "              'i feel awesome',\n",
        "              'excellent, glad to hear that.',\n",
        "              'not so good',\n",
        "              'sorry to hear that.',\n",
        "              'what\\'s your name?',\n",
        "              'i\\'m pybot. ask me a math question, please.']\n",
        "math_talk_1 = ['pythagorean theorem',\n",
        "               'a squared plus b squared equals c squared.']\n",
        "math_talk_2 = ['law of cosines',\n",
        "               'c**2 = a**2 + b**2 - 2 * a * b * cos(gamma)']"
      ],
      "metadata": {
        "id": "nEjscTFgfQfp"
      },
      "execution_count": null,
      "outputs": []
    },
    {
      "cell_type": "markdown",
      "source": [
        "listtrainer its our bot from above ,train on our data"
      ],
      "metadata": {
        "id": "dOJkxidyfZP7"
      }
    },
    {
      "cell_type": "markdown",
      "source": [
        "To create a chatbot with your own dataset, you can use the ListTrainer class of the ChatterBot library. Here is an example code:"
      ],
      "metadata": {
        "id": "luR9xuO0manr"
      }
    },
    {
      "cell_type": "code",
      "source": [
        "\n",
        "list_trainer = ListTrainer(my_bot)\n",
        "for item in (small_talk, math_talk_1, math_talk_2):\n",
        "    list_trainer.train(item)"
      ],
      "metadata": {
        "id": "6yijg2Smfb0J"
      },
      "execution_count": null,
      "outputs": []
    },
    {
      "cell_type": "markdown",
      "source": [
        "evaluation get response of model"
      ],
      "metadata": {
        "id": "LOQwCI_efopB"
      }
    },
    {
      "cell_type": "code",
      "source": [
        "print(my_bot.get_response(\"what's your name?\"))"
      ],
      "metadata": {
        "id": "OvbojSlPfzMh"
      },
      "execution_count": null,
      "outputs": []
    },
    {
      "cell_type": "code",
      "source": [
        "\n",
        "print(my_bot.get_response(\"do you know the law of cosines?\"))"
      ],
      "metadata": {
        "id": "8mDXXlL2fzdA"
      },
      "execution_count": null,
      "outputs": []
    },
    {
      "cell_type": "markdown",
      "source": [
        "................................................................................"
      ],
      "metadata": {
        "id": "VZDO3dPsf0Ux"
      }
    },
    {
      "cell_type": "markdown",
      "source": [
        "train on englosh built in not on above list of data"
      ],
      "metadata": {
        "id": "ZLhF90KEgFow"
      }
    },
    {
      "cell_type": "markdown",
      "source": [
        "this code, we create a chatbot instance using the ChatBot class and then create a ChatterBotCorpusTrainer instance to train the chatbot on the English corpus."
      ],
      "metadata": {
        "id": "t8iu20glmdI6"
      }
    },
    {
      "cell_type": "code",
      "source": [
        "from chatterbot.trainers import ChatterBotCorpusTrainer\n",
        "corpus_trainer = ChatterBotCorpusTrainer(my_bot)\n",
        "corpus_trainer.train('chatterbot.corpus.english')"
      ],
      "metadata": {
        "id": "eADV6_nxf0Gx"
      },
      "execution_count": null,
      "outputs": []
    },
    {
      "cell_type": "code",
      "source": [
        "print(my_bot.get_response(\"do you watch tv \"))"
      ],
      "metadata": {
        "id": "DZFKfZWQgVSg"
      },
      "execution_count": null,
      "outputs": []
    },
    {
      "cell_type": "code",
      "source": [
        "\n",
        "print(my_bot.get_response(\"I feel sad\"))"
      ],
      "metadata": {
        "id": "Z_X95ezegZNY"
      },
      "execution_count": null,
      "outputs": []
    },
    {
      "cell_type": "markdown",
      "source": [
        "......................................................................\n",
        "you can use ibm watson to make chatbot in less time with more efficient way\n",
        "\n",
        "https://www.ibm.com/products/watson-assistant/artificial-intelligence\n",
        "\n",
        "steps is here\n",
        "\n",
        "https://www.ibm.com/products/watson-assistant/docs-resources\n"
      ],
      "metadata": {
        "id": "OBG49buCiESf"
      }
    },
    {
      "cell_type": "markdown",
      "source": [
        "..........................................................................."
      ],
      "metadata": {
        "id": "D6yB4OEdkEmF"
      }
    },
    {
      "cell_type": "markdown",
      "source": [
        "or dialog flow\n",
        "https://marutitech.com/build-a-chatbot-using-dialogflow/\n"
      ],
      "metadata": {
        "id": "_daF1AkEkASu"
      }
    }
  ]
}